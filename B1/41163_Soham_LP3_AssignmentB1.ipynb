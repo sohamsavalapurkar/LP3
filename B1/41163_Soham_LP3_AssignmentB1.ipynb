{
 "cells": [
  {
   "cell_type": "code",
   "execution_count": 1,
   "metadata": {},
   "outputs": [],
   "source": [
    "p = [3, 5, 2, 7, 4, 10, 1, 9, 8, 6]\n",
    "p8 = [6, 3, 7, 4, 8, 5, 10, 9]\n",
    "\n",
    "ip = [2, 6, 3, 1, 4, 8, 5, 7]\n",
    "inv_ip = [4, 1, 3, 5, 7, 2, 8, 6]\n",
    "\n",
    "\n",
    "ep = [4, 1, 2, 3, 2, 3, 4, 1]\n",
    "\n",
    "\n",
    "p4 = [2, 4, 3, 1]\n",
    "\n",
    "\n",
    "s0 = [[\"01\", \"00\", \"11\", \"10\"],\n",
    "     [\"11\", \"10\", \"01\", \"00\"],\n",
    "     [\"00\", \"10\", \"01\", \"11\"],\n",
    "     [\"11\", \"01\", \"11\", \"10\"]]\n",
    "s1 = [[\"00\", \"01\", \"10\", \"11\"],\n",
    "     [\"10\", \"00\", \"01\", \"11\"],\n",
    "     [\"11\", \"00\", \"01\", \"00\"],\n",
    "     [\"10\", \"01\", \"00\", \"11\"]]\n",
    "\n",
    "key = '1000110101'"
   ]
  },
  {
   "cell_type": "code",
   "execution_count": 2,
   "metadata": {},
   "outputs": [],
   "source": [
    "def create_8_bit_key(key10):\n",
    "    new_key = ''\n",
    "    for i in p8:\n",
    "        new_key += key[i-1]\n",
    "    return new_key"
   ]
  },
  {
   "cell_type": "code",
   "execution_count": 3,
   "metadata": {},
   "outputs": [],
   "source": [
    "def generate_keys(key):\n",
    "    keyp = ''\n",
    "    for i in p:\n",
    "        keyp += key[i-1]\n",
    "    \n",
    "    left_half = keyp[1:5] + keyp[0]\n",
    "    right_half = keyp[6:] + keyp[5]\n",
    "    k1 = create_8_bit_key(left_half+right_half)\n",
    "    \n",
    "    left_half = keyp[3:5] + keyp[0:3]\n",
    "    right_half = keyp[8:] + keyp[5:8]\n",
    "    k2 = create_8_bit_key(left_half+right_half)\n",
    "    \n",
    "    return k1,k2"
   ]
  },
  {
   "cell_type": "code",
   "execution_count": 4,
   "metadata": {},
   "outputs": [
    {
     "data": {
      "text/plain": [
       "('10001110', '10001110')"
      ]
     },
     "execution_count": 4,
     "metadata": {},
     "output_type": "execute_result"
    }
   ],
   "source": [
    "generate_keys(key)"
   ]
  },
  {
   "cell_type": "code",
   "execution_count": 5,
   "metadata": {},
   "outputs": [],
   "source": [
    "def generate_ip(key8):\n",
    "    new_key = ''\n",
    "    for i in ip:\n",
    "        new_key += key8[i-1]\n",
    "    return new_key"
   ]
  },
  {
   "cell_type": "code",
   "execution_count": 6,
   "metadata": {},
   "outputs": [],
   "source": [
    "def generate_inv_ip(key8):\n",
    "    new_key = ''\n",
    "    for i in inv_ip:\n",
    "        new_key += key8[i-1]\n",
    "    return new_key"
   ]
  },
  {
   "cell_type": "code",
   "execution_count": 7,
   "metadata": {},
   "outputs": [],
   "source": [
    "def swap(data):\n",
    "    return data[4:] + data[:4]"
   ]
  },
  {
   "cell_type": "code",
   "execution_count": 8,
   "metadata": {},
   "outputs": [],
   "source": [
    "def expand_and_permutate(key4):\n",
    "    new_key = ''\n",
    "    for i in ep:\n",
    "        new_key += key4[i-1]\n",
    "    return new_key"
   ]
  },
  {
   "cell_type": "code",
   "execution_count": 9,
   "metadata": {},
   "outputs": [],
   "source": [
    "def perform_xor(data,k):\n",
    "    size = len(data)\n",
    "    data = int(data, 2)\n",
    "    k = int(k, 2)\n",
    "    res = data ^ k\n",
    "    return format(res, 'b').zfill(size)\n",
    "    "
   ]
  },
  {
   "cell_type": "code",
   "execution_count": 10,
   "metadata": {},
   "outputs": [],
   "source": [
    "def get_sbox(data, sbox):\n",
    "    row = int(data[0] + data[3], 2)\n",
    "    col = int(data[1:3], 2)\n",
    "    return sbox[row][col]"
   ]
  },
  {
   "cell_type": "code",
   "execution_count": 11,
   "metadata": {},
   "outputs": [],
   "source": [
    "def permutate_4(key4):\n",
    "    new_key = ''\n",
    "    for i in p4:\n",
    "        new_key += key4[i-1]\n",
    "    return new_key"
   ]
  },
  {
   "cell_type": "code",
   "execution_count": 12,
   "metadata": {},
   "outputs": [],
   "source": [
    "def fk(key8, k):\n",
    "    left_key = key8[:4]\n",
    "    right_key = key8[4:]\n",
    "    \n",
    "    right_key = expand_and_permutate(right_key)\n",
    "    right_key = perform_xor(right_key, k)    \n",
    "    right_key = get_sbox(right_key[:4], s0) + get_sbox(right_key[4:], s1)\n",
    "    right_key = permutate_4(right_key)    \n",
    "    left_key = perform_xor(left_key, right_key)\n",
    "\n",
    "    return left_key + key8[4:]"
   ]
  },
  {
   "cell_type": "code",
   "execution_count": 13,
   "metadata": {},
   "outputs": [],
   "source": [
    "def encrypt(data):\n",
    "    data = generate_ip(data)\n",
    "    k1, k2 = generate_keys(key)\n",
    "    \n",
    "    #round 1\n",
    "    data = fk(data, k1)\n",
    "    \n",
    "    #swap left and right part\n",
    "    data = swap(data)\n",
    "    \n",
    "    #round 2\n",
    "    data = fk(data, k2)\n",
    "    \n",
    "    data = generate_inv_ip(data)\n",
    "    \n",
    "    return data"
   ]
  },
  {
   "cell_type": "code",
   "execution_count": 14,
   "metadata": {},
   "outputs": [],
   "source": [
    "def decrypt(encrypted_data):\n",
    "    data = generate_ip(encrypted_data)\n",
    "    k1, k2 = generate_keys(key)\n",
    "    \n",
    "    #round 1    \n",
    "    data = fk(data, k2)\n",
    "    \n",
    "    #swap left and right part\n",
    "    data = swap(data)\n",
    "    \n",
    "    #round 2\n",
    "    data = fk(data, k1)\n",
    "    \n",
    "    data = generate_inv_ip(data)\n",
    "    \n",
    "    return data"
   ]
  },
  {
   "cell_type": "code",
   "execution_count": 15,
   "metadata": {},
   "outputs": [
    {
     "name": "stdout",
     "output_type": "stream",
     "text": [
      "Enter data to encrypt : Sample text\n",
      "Encrypted data :  0101001110010011111011001110010110101011110101101100100001000000110101101110101101000000\n"
     ]
    }
   ],
   "source": [
    "data = input(\"Enter data to encrypt : \")\n",
    "encrypted_data = \"\"\n",
    "for i in data:\n",
    "    d = ord(i)\n",
    "    d = \"{0:08b}\".format(d)\n",
    "    encrypted_data += encrypt(d)\n",
    "print(\"Encrypted data : \", encrypted_data)"
   ]
  },
  {
   "cell_type": "code",
   "execution_count": 16,
   "metadata": {},
   "outputs": [
    {
     "name": "stdout",
     "output_type": "stream",
     "text": [
      "Decrypted Data :  Sample text\n"
     ]
    }
   ],
   "source": [
    "original_data = \"\"\n",
    "for i in range(int(len(encrypted_data)/8)):\n",
    "    original_data += chr(int(decrypt(encrypted_data[int(i*8):int((i+1)*8)]), 2))\n",
    "print(\"Decrypted Data : \", original_data)"
   ]
  },
  {
   "cell_type": "code",
   "execution_count": null,
   "metadata": {},
   "outputs": [],
   "source": []
  }
 ],
 "metadata": {
  "kernelspec": {
   "display_name": "Python 3",
   "language": "python",
   "name": "python3"
  },
  "language_info": {
   "codemirror_mode": {
    "name": "ipython",
    "version": 3
   },
   "file_extension": ".py",
   "mimetype": "text/x-python",
   "name": "python",
   "nbconvert_exporter": "python",
   "pygments_lexer": "ipython3",
   "version": "3.8.5"
  }
 },
 "nbformat": 4,
 "nbformat_minor": 4
}
