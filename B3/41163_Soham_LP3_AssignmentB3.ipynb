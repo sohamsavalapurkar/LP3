{
 "cells": [
  {
   "cell_type": "code",
   "execution_count": 1,
   "metadata": {},
   "outputs": [],
   "source": [
    "from Crypto.Util import number\n",
    "\n",
    "import multiprocessing\n",
    "from joblib import Parallel, delayed\n",
    "\n",
    "import random\n",
    "\n",
    "from math import sqrt"
   ]
  },
  {
   "cell_type": "code",
   "execution_count": 2,
   "metadata": {},
   "outputs": [],
   "source": [
    "def find_prime_factors(num):\n",
    "    prime_factors = set()\n",
    "    \n",
    "    while num % 2 == 0:\n",
    "        prime_factors.add(2)\n",
    "        num = num // 2\n",
    "    \n",
    "    for i in range(3, int(num**0.5), 2):\n",
    "        while num % i == 0:\n",
    "            prime_factors.add(i)\n",
    "            num = num // i\n",
    "            \n",
    "    if num > 2:\n",
    "        prime_factors.add(num)\n",
    "    \n",
    "    return prime_factors"
   ]
  },
  {
   "cell_type": "code",
   "execution_count": 3,
   "metadata": {},
   "outputs": [],
   "source": [
    "def power(x, y, p):\n",
    "    result = 1\n",
    "    x = x % p\n",
    "    \n",
    "    while y > 0:\n",
    "        \n",
    "        if y & 1:\n",
    "            result = (result * x) % p\n",
    "            \n",
    "        y = y >> 1\n",
    "        x = (x * x) & p\n",
    "        \n",
    "    return result"
   ]
  },
  {
   "cell_type": "code",
   "execution_count": 4,
   "metadata": {},
   "outputs": [],
   "source": [
    "def check_primitive(i, num, factors):\n",
    "    phi = num - 1\n",
    "    for j in factors:\n",
    "        if power(i, (phi//j), num) == 1:\n",
    "            return None\n",
    "    return i"
   ]
  },
  {
   "cell_type": "code",
   "execution_count": 5,
   "metadata": {},
   "outputs": [],
   "source": [
    "def find_primitive_root(num):\n",
    "    phi = num - 1\n",
    "    factors = find_prime_factors(phi)\n",
    "    \n",
    "    primitive_roots = Parallel(n_jobs = multiprocessing.cpu_count())(delayed(check_primitive)(i, num, factors) for i in range(2, phi+1))        \n",
    "        \n",
    "    primitive_roots = list(filter(None, primitive_roots))\n",
    "    \n",
    "    return random.choice(primitive_roots)"
   ]
  },
  {
   "cell_type": "code",
   "execution_count": 6,
   "metadata": {},
   "outputs": [],
   "source": [
    "def get_prime_and_primitive(num_bits):\n",
    "    \n",
    "    prime = 2\n",
    "    primitive = -1\n",
    "    \n",
    "    while primitive == -1:\n",
    "        prime = 7\n",
    "        primitive = find_primitive_root(prime)\n",
    "    \n",
    "    return prime, primitive"
   ]
  },
  {
   "cell_type": "code",
   "execution_count": 7,
   "metadata": {},
   "outputs": [
    {
     "name": "stdout",
     "output_type": "stream",
     "text": [
      "780061 523238\n"
     ]
    }
   ],
   "source": [
    "prime, primitive = get_prime_and_primitive(20)\n",
    "print(prime, primitive)"
   ]
  },
  {
   "cell_type": "code",
   "execution_count": 8,
   "metadata": {},
   "outputs": [],
   "source": [
    "class User:\n",
    "    def __init__(self, prime, primitive):\n",
    "        self.prime = prime\n",
    "        self.primitive = primitive\n",
    "        self.selected_private_key = random.randrange(1, 10, 1)\n",
    "        \n",
    "    def get_generated_key(self):\n",
    "        return power(self.primitive, self.selected_private_key, self.prime)\n",
    "    \n",
    "    def set_secret_key(self, key):\n",
    "        self.secret_key =  power(key, self.selected_private_key, self.prime)\n",
    "    \n",
    "    def exchange_generated_key(self, user2):\n",
    "        self.set_secret_key(user2.get_generated_key())\n",
    "        user2.set_secret_key(self.get_generated_key())"
   ]
  },
  {
   "cell_type": "code",
   "execution_count": 9,
   "metadata": {},
   "outputs": [],
   "source": [
    "a = User(prime, primitive)\n",
    "b = User(prime, primitive)"
   ]
  },
  {
   "cell_type": "code",
   "execution_count": 10,
   "metadata": {},
   "outputs": [],
   "source": [
    "a.exchange_generated_key(b)"
   ]
  },
  {
   "cell_type": "code",
   "execution_count": 11,
   "metadata": {},
   "outputs": [
    {
     "name": "stdout",
     "output_type": "stream",
     "text": [
      "523238\n",
      "523238\n"
     ]
    }
   ],
   "source": [
    "print(a.secret_key)\n",
    "print(b.secret_key)"
   ]
  },
  {
   "cell_type": "code",
   "execution_count": null,
   "metadata": {},
   "outputs": [],
   "source": []
  }
 ],
 "metadata": {
  "kernelspec": {
   "display_name": "Python 3.8.5 64-bit",
   "language": "python",
   "name": "python38564bitde44c35ad6564caa90652f69e7743f92"
  },
  "language_info": {
   "codemirror_mode": {
    "name": "ipython",
    "version": 3
   },
   "file_extension": ".py",
   "mimetype": "text/x-python",
   "name": "python",
   "nbconvert_exporter": "python",
   "pygments_lexer": "ipython3",
   "version": "3.8.5"
  }
 },
 "nbformat": 4,
 "nbformat_minor": 4
}
