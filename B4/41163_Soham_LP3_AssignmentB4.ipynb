{
 "cells": [
  {
   "cell_type": "code",
   "execution_count": 14,
   "metadata": {},
   "outputs": [],
   "source": [
    "from Crypto.Util import number\n",
    "\n",
    "from math import gcd"
   ]
  },
  {
   "cell_type": "code",
   "execution_count": 15,
   "metadata": {},
   "outputs": [
    {
     "name": "stdout",
     "output_type": "stream",
     "text": [
      "211 173\n"
     ]
    }
   ],
   "source": [
    "num_bits = 8\n",
    "\n",
    "p = number.getPrime(num_bits)\n",
    "q = number.getPrime(num_bits)\n",
    "print(p,q)"
   ]
  },
  {
   "cell_type": "code",
   "execution_count": 16,
   "metadata": {},
   "outputs": [],
   "source": [
    "n = p * q\n",
    "\n",
    "phi = (p-1) * (q-1)"
   ]
  },
  {
   "cell_type": "code",
   "execution_count": 17,
   "metadata": {},
   "outputs": [],
   "source": [
    "def calc_enc_key(n, phi):\n",
    "    e = 2\n",
    "    \n",
    "    while e < phi:\n",
    "        if gcd(e, phi) == 1:\n",
    "            break\n",
    "        e += 1\n",
    "    key = (e,n)\n",
    "    return key"
   ]
  },
  {
   "cell_type": "code",
   "execution_count": 18,
   "metadata": {},
   "outputs": [
    {
     "data": {
      "text/plain": [
       "(11, 36503)"
      ]
     },
     "execution_count": 18,
     "metadata": {},
     "output_type": "execute_result"
    }
   ],
   "source": [
    "enc_key = calc_enc_key(n, phi)\n",
    "enc_key"
   ]
  },
  {
   "cell_type": "code",
   "execution_count": 19,
   "metadata": {},
   "outputs": [],
   "source": [
    "def calc_dec_key(enc_key, phi):\n",
    "    d = 0\n",
    "    k = 1\n",
    "    e = enc_key[0]\n",
    "    while True:\n",
    "        temp = 1 + k * phi\n",
    "        if temp % e == 0 and temp / e != e:\n",
    "            d = temp/e\n",
    "            break\n",
    "        k += 1\n",
    "    key = (int(d), enc_key[1])\n",
    "    return key"
   ]
  },
  {
   "cell_type": "code",
   "execution_count": 20,
   "metadata": {},
   "outputs": [
    {
     "data": {
      "text/plain": [
       "(9851, 36503)"
      ]
     },
     "execution_count": 20,
     "metadata": {},
     "output_type": "execute_result"
    }
   ],
   "source": [
    "dec_key = calc_dec_key(enc_key, phi)\n",
    "dec_key"
   ]
  },
  {
   "cell_type": "code",
   "execution_count": 21,
   "metadata": {},
   "outputs": [],
   "source": [
    "def power(x, y, p):\n",
    "    res = 1\n",
    "    \n",
    "    x = x % p\n",
    "    \n",
    "    while(y > 0):\n",
    "        \n",
    "        if(y & 1):\n",
    "            res = (res * x) % p\n",
    "        \n",
    "        y = y >> 1\n",
    "        x = (x * x) % p\n",
    "    \n",
    "    return res"
   ]
  },
  {
   "cell_type": "code",
   "execution_count": 22,
   "metadata": {},
   "outputs": [],
   "source": [
    "def encrypt(data, enc_key):\n",
    "    \n",
    "    cipher = power(data, enc_key[0], enc_key[1])\n",
    "    return cipher"
   ]
  },
  {
   "cell_type": "code",
   "execution_count": 23,
   "metadata": {},
   "outputs": [],
   "source": [
    "def decrypt(cipher, dec_key):\n",
    "    \n",
    "    data = power(cipher, dec_key[0], dec_key[1])\n",
    "    print(data)\n",
    "    return data"
   ]
  },
  {
   "cell_type": "code",
   "execution_count": 24,
   "metadata": {},
   "outputs": [
    {
     "name": "stdout",
     "output_type": "stream",
     "text": [
      "Enter text to encrpyt : hello\n",
      "hello\n",
      "104\n",
      "101\n",
      "108\n",
      "108\n",
      "111\n",
      "\n",
      "Cipher :  [32176, 13538, 2859, 2859, 21177]\n"
     ]
    }
   ],
   "source": [
    "text = input(\"Enter text to encrpyt : \")\n",
    "print(text)\n",
    "cipher = []\n",
    "for char in text:\n",
    "    print(ord(char))\n",
    "    cipher.append(encrypt(ord(char), enc_key))\n",
    "print('\\nCipher : ', cipher)"
   ]
  },
  {
   "cell_type": "code",
   "execution_count": 25,
   "metadata": {},
   "outputs": [
    {
     "name": "stdout",
     "output_type": "stream",
     "text": [
      "104\n",
      "101\n",
      "108\n",
      "108\n",
      "111\n",
      "Decrypted Data :  hello\n"
     ]
    }
   ],
   "source": [
    "plain_text = \"\"\n",
    "\n",
    "for char in cipher:\n",
    "    #print(ord(char))\n",
    "    plain_text += chr(decrypt(char, dec_key))\n",
    "\n",
    "print('Decrypted Data : ', plain_text)"
   ]
  },
  {
   "cell_type": "code",
   "execution_count": null,
   "metadata": {},
   "outputs": [],
   "source": []
  }
 ],
 "metadata": {
  "kernelspec": {
   "display_name": "Python 3.8.5 64-bit",
   "language": "python",
   "name": "python38564bitde44c35ad6564caa90652f69e7743f92"
  },
  "language_info": {
   "codemirror_mode": {
    "name": "ipython",
    "version": 3
   },
   "file_extension": ".py",
   "mimetype": "text/x-python",
   "name": "python",
   "nbconvert_exporter": "python",
   "pygments_lexer": "ipython3",
   "version": "3.8.5"
  }
 },
 "nbformat": 4,
 "nbformat_minor": 4
}
