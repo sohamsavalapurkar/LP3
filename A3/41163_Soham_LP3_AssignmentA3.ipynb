{
 "cells": [
  {
   "cell_type": "code",
   "execution_count": 1,
   "metadata": {},
   "outputs": [],
   "source": [
    "from math import sqrt, pow, exp\n",
    "import matplotlib.pyplot as plt\n",
    "import pandas as pd\n",
    "import numpy as np\n",
    "from sklearn.model_selection import train_test_split\n",
    "from sklearn.metrics import accuracy_score\n",
    "from statistics import mode"
   ]
  },
  {
   "cell_type": "code",
   "execution_count": 2,
   "metadata": {},
   "outputs": [],
   "source": [
    "def euclidean_distance(point1, point2):\n",
    "    sum_squared_distance = 0\n",
    "    for i in range(len(point1)):\n",
    "        sum_squared_distance += pow(point1[i] - point2[i], 2)\n",
    "    return sqrt(sum_squared_distance)"
   ]
  },
  {
   "cell_type": "code",
   "execution_count": 11,
   "metadata": {},
   "outputs": [],
   "source": [
    "def knn(data, query, k):\n",
    "    neighbor_distances_and_indices = []\n",
    "    \n",
    "    \n",
    "    for index, example in enumerate(data):\n",
    "        distance = euclidean_distance(example[:-1], query)\n",
    "        neighbor_distances_and_indices.append((distance, index))\n",
    "    \n",
    "    sorted_neighbor_distances_and_indices = sorted(neighbor_distances_and_indices)    \n",
    "    k_nearest_distances_and_indices = sorted_neighbor_distances_and_indices[:k]\n",
    "    k_nearest_labels = [data[i][-1] for distance, i in k_nearest_distances_and_indices]\n",
    "    \n",
    "    return k_nearest_distances_and_indices , mode(k_nearest_labels)\n"
   ]
  },
  {
   "cell_type": "code",
   "execution_count": 12,
   "metadata": {},
   "outputs": [],
   "source": [
    "training_data = [\n",
    "    [4, 4, 'blue'],\n",
    "    [6, 2, 'blue'],\n",
    "    [2, 4, 'orange'],\n",
    "    [6, 4, 'orange'],\n",
    "    [4, 6, 'orange'],\n",
    "    [4, 2, 'orange']\n",
    "]\n",
    "\n",
    "test_data = [6,6]"
   ]
  },
  {
   "cell_type": "code",
   "execution_count": 13,
   "metadata": {},
   "outputs": [],
   "source": [
    "clf_k_nearest_neighbors, clf_prediction = knn(training_data, test_data, k=3)"
   ]
  },
  {
   "cell_type": "code",
   "execution_count": 6,
   "metadata": {},
   "outputs": [
    {
     "data": {
      "text/plain": [
       "'orange'"
      ]
     },
     "execution_count": 6,
     "metadata": {},
     "output_type": "execute_result"
    }
   ],
   "source": [
    "clf_prediction"
   ]
  },
  {
   "cell_type": "code",
   "execution_count": 16,
   "metadata": {},
   "outputs": [
    {
     "data": {
      "text/plain": [
       "[(2.0, 3), (2.0, 4), (2.8284271247461903, 0)]"
      ]
     },
     "execution_count": 16,
     "metadata": {},
     "output_type": "execute_result"
    }
   ],
   "source": [
    "clf_k_nearest_neighbors"
   ]
  },
  {
   "cell_type": "code",
   "execution_count": 17,
   "metadata": {},
   "outputs": [
    {
     "data": {
      "text/plain": [
       "'orange'"
      ]
     },
     "execution_count": 17,
     "metadata": {},
     "output_type": "execute_result"
    }
   ],
   "source": [
    "training_data[clf_k_nearest_neighbors[0][1]][2]"
   ]
  },
  {
   "cell_type": "code",
   "execution_count": 31,
   "metadata": {},
   "outputs": [],
   "source": [
    "def predict_weighted_knn(neighbours):\n",
    "    \n",
    "    class_count = {}\n",
    "    for neighbour in neighbours:\n",
    "        label = training_data[neighbour[1]][2]\n",
    "        if label in class_count:\n",
    "            class_count[label] += 1/neighbour[0]\n",
    "        else:\n",
    "            class_count[label] = 1/neighbour[0]\n",
    "    sorted_class_count = sorted(class_count.items(), key = lambda item : item[1])\n",
    "    print(\"Class count : \", sorted_class_count)\n",
    "    return sorted_class_count[-1][0]"
   ]
  },
  {
   "cell_type": "code",
   "execution_count": 32,
   "metadata": {},
   "outputs": [
    {
     "name": "stdout",
     "output_type": "stream",
     "text": [
      "Class count :  [('blue', 0.35355339059327373), ('orange', 1.0)]\n"
     ]
    },
    {
     "data": {
      "text/plain": [
       "'orange'"
      ]
     },
     "execution_count": 32,
     "metadata": {},
     "output_type": "execute_result"
    }
   ],
   "source": [
    "predict_weighted_knn(clf_k_nearest_neighbors)"
   ]
  },
  {
   "cell_type": "code",
   "execution_count": 35,
   "metadata": {},
   "outputs": [],
   "source": [
    "def predict_locally_weighted_knn(neighbours):\n",
    "    class_count = {}\n",
    "    for neighbour in neighbours:\n",
    "        label = training_data[neighbour[1]][2]\n",
    "        if label in class_count:\n",
    "            class_count[label] += 1/exp(2*neighbour[0])\n",
    "        else:\n",
    "            class_count[label] = 1/exp(2*neighbour[0])\n",
    "    sorted_class_count = sorted(class_count.items(), key = lambda item : item[1])\n",
    "    print(\"Class count : \", sorted_class_count)\n",
    "    return sorted_class_count[-1][0]"
   ]
  },
  {
   "cell_type": "code",
   "execution_count": 36,
   "metadata": {},
   "outputs": [
    {
     "name": "stdout",
     "output_type": "stream",
     "text": [
      "Class count :  [('blue', 0.0034934892766462005), ('orange', 0.036631277777468364)]\n"
     ]
    },
    {
     "data": {
      "text/plain": [
       "'orange'"
      ]
     },
     "execution_count": 36,
     "metadata": {},
     "output_type": "execute_result"
    }
   ],
   "source": [
    "predict_locally_weighted_knn(clf_k_nearest_neighbors)"
   ]
  },
  {
   "cell_type": "code",
   "execution_count": null,
   "metadata": {},
   "outputs": [],
   "source": []
  }
 ],
 "metadata": {
  "kernelspec": {
   "display_name": "Python 3",
   "language": "python",
   "name": "python3"
  },
  "language_info": {
   "codemirror_mode": {
    "name": "ipython",
    "version": 3
   },
   "file_extension": ".py",
   "mimetype": "text/x-python",
   "name": "python",
   "nbconvert_exporter": "python",
   "pygments_lexer": "ipython3",
   "version": "3.8.5"
  }
 },
 "nbformat": 4,
 "nbformat_minor": 4
}
