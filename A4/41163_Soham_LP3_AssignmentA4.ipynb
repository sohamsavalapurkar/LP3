{
 "cells": [
  {
   "cell_type": "code",
   "execution_count": 1,
   "metadata": {},
   "outputs": [],
   "source": [
    "import numpy as np\n",
    "import numpy.matlib\n",
    "import matplotlib.pyplot as plt\n",
    "import pandas as pd"
   ]
  },
  {
   "cell_type": "code",
   "execution_count": 2,
   "metadata": {},
   "outputs": [],
   "source": [
    "data = [\n",
    "    [0.1, 0.6],\n",
    "    [0.15, 0.71],\n",
    "    [0.08, 0.9],\n",
    "    [0.16, 0.85],\n",
    "    [0.2, 0.3],\n",
    "    [0.25, 0.5],\n",
    "    [0.24, 0.1],\n",
    "    [0.3, 0.2]\n",
    "]\n",
    "\n",
    "data = pd.DataFrame(data, columns = ['x', 'y'])\n",
    "\n",
    "centroids = [\n",
    "    [0.1, 0.6],\n",
    "    [0.3, 0.2]\n",
    "]\n",
    "\n",
    "k = 2"
   ]
  },
  {
   "cell_type": "code",
   "execution_count": 3,
   "metadata": {},
   "outputs": [],
   "source": [
    "def calc_distance(x1, x2):\n",
    "    return (sum((x1 - x2)**2))**0.5"
   ]
  },
  {
   "cell_type": "code",
   "execution_count": 4,
   "metadata": {},
   "outputs": [],
   "source": [
    "def assign_clusters(centroids, data):\n",
    "    clusters = []\n",
    "    for i in range(data.shape[0]):\n",
    "        distances = []\n",
    "        for centroid in centroids:\n",
    "            distances.append(calc_distance(centroid, data.iloc[i]))\n",
    "        cluster = [z for z, val in enumerate(distances) if val==min(distances)]\n",
    "        clusters.append(cluster[0])\n",
    "    return clusters"
   ]
  },
  {
   "cell_type": "code",
   "execution_count": 7,
   "metadata": {},
   "outputs": [],
   "source": [
    "def calc_centroids(clusters, data):\n",
    "    new_centroids = []\n",
    "    cluster_df = pd.concat([pd.DataFrame(data), pd.DataFrame(clusters, columns=['cluster'])], axis=1)\n",
    "    for c in set(cluster_df['cluster']):\n",
    "        current_cluster = cluster_df[cluster_df['cluster']==c][cluster_df.columns[:-1]]\n",
    "        cluster_mean = current_cluster.mean(axis=0)\n",
    "        new_centroids.append(cluster_mean)\n",
    "    return new_centroids"
   ]
  },
  {
   "cell_type": "code",
   "execution_count": 8,
   "metadata": {},
   "outputs": [],
   "source": [
    "clusters = assign_clusters(centroids, data)"
   ]
  },
  {
   "cell_type": "code",
   "execution_count": 9,
   "metadata": {},
   "outputs": [],
   "source": [
    "centroids = calc_centroids(clusters, data)"
   ]
  },
  {
   "cell_type": "code",
   "execution_count": 10,
   "metadata": {},
   "outputs": [
    {
     "data": {
      "image/png": "[encoded data removed]",
      "text/plain": [
       "<Figure size 432x288 with 1 Axes>"
      ]
     },
     "metadata": {
      "needs_background": "light"
     },
     "output_type": "display_data"
    }
   ],
   "source": [
    "plt.plot()\n",
    "colors = ['red', 'blue']\n",
    "\n",
    "for i in range(data.shape[0]):\n",
    "    plt.scatter(data.iloc[i]['x'], data.iloc[i]['y'], c = colors[clusters[i]])\n",
    "\n",
    "for i in centroids:\n",
    "    plt.scatter(i[0], i[1], c = 'yellow')\n",
    "\n",
    "plt.axis([0, 1, 0, 1])\n",
    "plt.show()"
   ]
  },
  {
   "cell_type": "code",
   "execution_count": 11,
   "metadata": {},
   "outputs": [
    {
     "name": "stdout",
     "output_type": "stream",
     "text": [
      "P6 belongs to cluster C1 coloured in red\n"
     ]
    }
   ],
   "source": [
    "print(f'P6 belongs to cluster C{clusters[5]+1} coloured in {colors[clusters[5]]}')"
   ]
  },
  {
   "cell_type": "code",
   "execution_count": 12,
   "metadata": {},
   "outputs": [
    {
     "name": "stdout",
     "output_type": "stream",
     "text": [
      "Population of cluster around P8 is 3 (Cluster is shown in blue colour)\n"
     ]
    }
   ],
   "source": [
    "print(f'Population of cluster around P8 is {clusters.count(clusters[7])} (Cluster is shown in {colors[clusters[7]]} colour)')"
   ]
  },
  {
   "cell_type": "code",
   "execution_count": 13,
   "metadata": {},
   "outputs": [
    {
     "name": "stdout",
     "output_type": "stream",
     "text": [
      "Updated values of centroids are (0.148, 0.712) and (0.24666666666666667, 0.20000000000000004)\n"
     ]
    }
   ],
   "source": [
    "print(f'Updated values of centroids are ({centroids[0][0]}, {centroids[0][1]}) and ({centroids[1][0]}, {centroids[1][1]})')"
   ]
  },
  {
   "cell_type": "code",
   "execution_count": null,
   "metadata": {},
   "outputs": [],
   "source": []
  }
 ],
 "metadata": {
  "kernelspec": {
   "display_name": "Python 3",
   "language": "python",
   "name": "python3"
  },
  "language_info": {
   "codemirror_mode": {
    "name": "ipython",
    "version": 3
   },
   "file_extension": ".py",
   "mimetype": "text/x-python",
   "name": "python",
   "nbconvert_exporter": "python",
   "pygments_lexer": "ipython3",
   "version": "3.8.5"
  }
 },
 "nbformat": 4,
 "nbformat_minor": 4
}
